{
 "cells": [
  {
   "cell_type": "markdown",
   "metadata": {
    "collapsed": true
   },
   "source": [
    "# T_Matrix-Spectral_Analysis"
   ]
  },
  {
   "cell_type": "markdown",
   "metadata": {},
   "source": [
    "# (Stage 3): Statistical Analysis of Translation Spectra \n",
    "In Stage 3 we extract the spectra of the translation matrices and find statistical properties of the spectra.\n",
    "\n",
    "### Stage 3 steps:\n",
    "1. Read in all translation matrices generated and exported as csv files in Stage 2\n",
    "2. Calculate the spectral values and the log of the spectral values for:\n",
    "    1. the raw translation matrix\n",
    "    2. the covariance matrix of the translation matrix (optional)\n",
    "3. Calculate statistical properties of the respective spectra (mean, max, min, median, std)\n",
    "4. Export the resulting statistics as a json:\n",
    "    * Example `../data/dim_300_loss_mse_l2=0_01_normality=0_000001/spec_analysis_stats.json`\n",
    "\n",
    "Stage 3 is fully executed by running the following python script \n",
    "* `execute_spectral_analysis.py`\n",
    "* The `$experiment` argument specifies the experiment in `../data` with the `T_matrices` csv files exported in stage 2."
   ]
  },
  {
   "cell_type": "code",
   "execution_count": 1,
   "metadata": {},
   "outputs": [
    {
     "name": "stdout",
     "output_type": "stream",
     "text": [
      "(Experiment 0):  dim_100_loss_cos_l2_0_0001_normality_0_000001\n",
      "(Experiment 1):  dim_100_loss_cos_l2_10_normality_0_000001\n",
      "(Experiment 2):  dim_100_loss_cos_l2_1_normality_0_000001\n",
      "(Experiment 3):  dim_300_loss_cos_l2_0_01_normality_0_000001\n",
      "(Experiment 4):  dim_300_loss_cos_l2_1_normality_0_000001\n",
      "(Experiment 5):  dim_300_loss_mse_l2_0_01_normality_0_000001\n",
      "(Experiment 6):  dim_50_loss_cos_l2_0_01_normality_0_000001\n",
      "(Experiment 7):  dim_50_loss_cos_l2_10_normality_0_000001\n"
     ]
    }
   ],
   "source": [
    "# View the available translation hyperparameter experiments\n",
    "experiments = !ls ../data\n",
    "\"These are the available experiments:\"\n",
    "i=0\n",
    "for exp in experiments:\n",
    "    print(\"(Experiment %r):  %s\" % (i,exp))\n",
    "    i+=1"
   ]
  },
  {
   "cell_type": "code",
   "execution_count": null,
   "metadata": {},
   "outputs": [
    {
     "name": "stdout",
     "output_type": "stream",
     "text": [
      "dim_300_loss_mse_l2_0_01_normality_0_000001\n"
     ]
    }
   ],
   "source": [
    "# specify which experiment in the list to run analysis on\n",
    "# you can change the ind4x in the list experiments[1] to run analysis on a different experiment\n",
    "experiment = experiments[5]\n",
    "print(experiment)\n",
    "# Run analysis with the execute_spectral_analysis.py script\n",
    "!python execute_spectral_analysis.py $experiment"
   ]
  },
  {
   "cell_type": "markdown",
   "metadata": {},
   "source": [
    "# (Stage 4): Plot Heatmaps of Spectra Statistics \n",
    "\n",
    "### Stage 4 steps:\n",
    "1. Read in the json containing the statistical properties of the spectra calculated in stage 3, \n",
    "2. Plot as a heatmap grid the respective statistics associated with each translation.\n",
    "    * The grid represents the translations from each language (row) to each other language (column).\n",
    "    * Diagonals on the grid correspond to baselines for when a language is translated to itself.\n",
    "    * Each heatmap is generated from \n",
    "        * a matrix type (translation matrix or or its covariance matrix), and\n",
    "        * a different selected statistic.\n",
    "    \n",
    "Stage 4 can be executed locally with the following two functions from `ismtools`:\n",
    "* `read_json` to read the json stats back in as the `T_matrix_dict`\n",
    "* `plot_heatmaps` select which heatmaps you want to generate\n"
   ]
  },
  {
   "cell_type": "code",
   "execution_count": null,
   "metadata": {
    "collapsed": true
   },
   "outputs": [],
   "source": [
    "from ismtools import read_json, plot_heatmaps\n",
    "import seaborn as sns\n",
    "from matplotlib import pyplot as plt\n",
    "%matplotlib inline\n",
    "\n",
    "# Construct the JSON path based on the experiment chosen in stage 3\n",
    "\n",
    "PATH = \"../data/\"+experiments[0]\n",
    "MATRIX_TYPES = [\"T_matrix\", \"T_cov\"]\n",
    "STATS = [\n",
    "         'mean', \n",
    "         'median', \n",
    "         'std', \n",
    "         'mean_log', \n",
    "         'median_log', \n",
    "         'std_log', \n",
    "         'ortho_norm',    #|T*T - I|_2\n",
    "         'condition_num',\n",
    "         'log_condition_num',\n",
    "         'determinant'\n",
    "        ]\n",
    "\n",
    "\n",
    "heatmaps = plot_heatmaps(T_matrix_dict=read_json(PATH+\"/spec_analysis_stats.json\"),\n",
    "                         plotted_stats=STATS,\n",
    "                         display_opt=\"cols\",\n",
    "                         matrix_types=MATRIX_TYPES,\n",
    "                         low_c=10,\n",
    "                         high_c=140,\n",
    "                         sep_num=8,\n",
    "                         figuresize=[12,9],\n",
    "                         write_heatmaps=PATH\n",
    "                        )"
   ]
  },
  {
   "cell_type": "code",
   "execution_count": null,
   "metadata": {
    "collapsed": true
   },
   "outputs": [],
   "source": []
  },
  {
   "cell_type": "code",
   "execution_count": null,
   "metadata": {
    "collapsed": true
   },
   "outputs": [],
   "source": []
  },
  {
   "cell_type": "code",
   "execution_count": null,
   "metadata": {
    "collapsed": true
   },
   "outputs": [],
   "source": []
  },
  {
   "cell_type": "code",
   "execution_count": null,
   "metadata": {
    "scrolled": true
   },
   "outputs": [],
   "source": [
    "### RUN THROUGH ALL EXPERIMENTS ###\n",
    "from ismtools import read_json, plot_heatmaps\n",
    "import seaborn as sns\n",
    "from matplotlib import pyplot as plt\n",
    "%matplotlib inline\n",
    "\n",
    "# View the available translation hyperparameter experiments\n",
    "experiments = !ls ../data\n",
    "\"These are the available experiments:\"\n",
    "i=0\n",
    "for exp in experiments:\n",
    "    print(\"(Experiment %r):  %s\" % (i,exp))\n",
    "    i+=1\n",
    "\n",
    "for experiment in experiments:\n",
    "    !python execute_spectral_analysis.py $experiment\n",
    "    \n",
    "    # Construct the JSON path based on the experiment chosen in stage 3\n",
    "\n",
    "    PATH = \"../data/\"+experiment\n",
    "    MATRIX_TYPES = [\"T_matrix\", \"T_cov\"]\n",
    "    STATS = [\n",
    "             'mean', \n",
    "             'median', \n",
    "             'std', \n",
    "             'mean_log', \n",
    "             'median_log', \n",
    "             'std_log', \n",
    "             'ortho_norm',    #|T*T - I|_2\n",
    "             'condition_num',\n",
    "             'log_condition_num',\n",
    "             'determinant'\n",
    "            ]\n",
    "\n",
    "\n",
    "    heatmaps = plot_heatmaps(T_matrix_dict=read_json(PATH+\"/spec_analysis_stats.json\"),\n",
    "                             plotted_stats=STATS,\n",
    "                             display_opt=\"cols\",\n",
    "                             matrix_types=MATRIX_TYPES,\n",
    "                             low_c=10,\n",
    "                             high_c=140,\n",
    "                             sep_num=8,\n",
    "                             figuresize=[12,9],\n",
    "                             write_heatmaps=PATH\n",
    "                            )   "
   ]
  }
 ],
 "metadata": {
  "anaconda-cloud": {},
  "kernelspec": {
   "display_name": "Python 3",
   "language": "python",
   "name": "python3"
  },
  "language_info": {
   "codemirror_mode": {
    "name": "ipython",
    "version": 3
   },
   "file_extension": ".py",
   "mimetype": "text/x-python",
   "name": "python",
   "nbconvert_exporter": "python",
   "pygments_lexer": "ipython3",
   "version": "3.6.1"
  }
 },
 "nbformat": 4,
 "nbformat_minor": 2
}
