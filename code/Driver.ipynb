{
 "cells": [
  {
   "cell_type": "markdown",
   "metadata": {},
   "source": [
    "# Driver Code "
   ]
  },
  {
   "cell_type": "code",
   "execution_count": 8,
   "metadata": {
    "collapsed": true
   },
   "outputs": [],
   "source": [
    "#import utilities\n",
    "%matplotlib inline"
   ]
  },
  {
   "cell_type": "markdown",
   "metadata": {},
   "source": [
    "#### Step 1: Run Isomantics Setup"
   ]
  },
  {
   "cell_type": "code",
   "execution_count": null,
   "metadata": {
    "collapsed": true
   },
   "outputs": [],
   "source": [
    "! ../isomantics_setup.sh"
   ]
  },
  {
   "cell_type": "markdown",
   "metadata": {},
   "source": [
    "#### Step 2: Run the Translation Script"
   ]
  },
  {
   "cell_type": "code",
   "execution_count": null,
   "metadata": {
    "collapsed": true
   },
   "outputs": [],
   "source": [
    "# Default - Without Accuracy Statistic\n",
    "! python3 Isomantics_SVD.py "
   ]
  },
  {
   "cell_type": "code",
   "execution_count": null,
   "metadata": {
    "collapsed": true
   },
   "outputs": [],
   "source": [
    "# '--a' - With Accuracy Statistic\n",
    "! python3 Isomantics_SVD.py --a"
   ]
  },
  {
   "cell_type": "markdown",
   "metadata": {},
   "source": [
    "#### Step 3: Create SVD Heatmaps"
   ]
  },
  {
   "cell_type": "code",
   "execution_count": null,
   "metadata": {},
   "outputs": [
    {
     "name": "stdout",
     "output_type": "stream",
     "text": [
      "\u001b[32m[I 22:47:14.884 NotebookApp]\u001b[m The port 8888 is already in use, trying another port.\n",
      "\u001b[32m[I 22:47:14.885 NotebookApp]\u001b[m The port 8889 is already in use, trying another port.\n",
      "\u001b[32m[I 22:47:14.895 NotebookApp]\u001b[m Serving notebooks from local directory: /Users/Dungeoun/IsomanticsDev/code\n",
      "\u001b[32m[I 22:47:14.895 NotebookApp]\u001b[m 0 active kernels \n",
      "\u001b[32m[I 22:47:14.895 NotebookApp]\u001b[m The Jupyter Notebook is running at: http://localhost:8890/?token=eacaba5b0a087a37c212add10e865b3af9e3c3e0aa465be5\n",
      "\u001b[32m[I 22:47:14.895 NotebookApp]\u001b[m Use Control-C to stop this server and shut down all kernels (twice to skip confirmation).\n",
      "[C 22:47:14.896 NotebookApp] \n",
      "    \n",
      "    Copy/paste this URL into your browser when you connect for the first time,\n",
      "    to login with a token:\n",
      "        http://localhost:8890/?token=eacaba5b0a087a37c212add10e865b3af9e3c3e0aa465be5\n",
      "\u001b[32m[I 22:47:15.083 NotebookApp]\u001b[m Accepting one-time-token-authenticated connection from ::1\n",
      "\u001b[33m[W 22:47:17.196 NotebookApp]\u001b[m Notebook SVD_heatmaps.ipynb is not trusted\n",
      "\u001b[33m[W 22:47:17.265 NotebookApp]\u001b[m 404 GET /nbextensions/widgets/notebook/js/extension.js?v=20171025224714 (::1) 9.55ms referer=http://localhost:8890/notebooks/SVD_heatmaps.ipynb\n",
      "\u001b[32m[I 22:47:17.734 NotebookApp]\u001b[m Kernel started: af705458-a209-42a4-8ac3-a67f77a494d6\n",
      "\u001b[32m[I 22:47:18.660 NotebookApp]\u001b[m Adapting to protocol v5.1 for kernel af705458-a209-42a4-8ac3-a67f77a494d6\n"
     ]
    }
   ],
   "source": [
    "! jupyter notebook SVD_heatmaps.ipynb"
   ]
  },
  {
   "cell_type": "code",
   "execution_count": null,
   "metadata": {
    "collapsed": true
   },
   "outputs": [],
   "source": []
  }
 ],
 "metadata": {
  "kernelspec": {
   "display_name": "Python 3",
   "language": "python",
   "name": "python3"
  },
  "language_info": {
   "codemirror_mode": {
    "name": "ipython",
    "version": 3
   },
   "file_extension": ".py",
   "mimetype": "text/x-python",
   "name": "python",
   "nbconvert_exporter": "python",
   "pygments_lexer": "ipython3",
   "version": "3.6.0"
  }
 },
 "nbformat": 4,
 "nbformat_minor": 2
}
